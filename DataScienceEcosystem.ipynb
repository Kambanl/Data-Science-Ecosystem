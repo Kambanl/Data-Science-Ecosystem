# Data Science Tools and Ecosystem

**Objectives**

- List popular languages for Data Science
- Identify key libraries used by Data Scientists
- Demonstrate how to create tables in Jupyter Notebook
- Perform basic data manipulation tasks
- Understand and use different data science tools and development environments

## Author 
Kamban Loganathan

In this Notebook, Data Science Tools and Ecosystem are Summarized.

Some of the Popular Languages that Data Scientists use are:

1. Python
2. R
3. SQL
4. Julia
5. Scala

Some of the Commonly used libraries used by Data Scientists include:

1. **Pandas** - For data manipulation and analysis
2. **Numpy** - For Numerical Computations
3. **Matplotlib** - For data Visualization
4. **Scikit-learn** - For Machine Learning
5. **TensorFlow** - For deep Learning
6. **SciPy** - For Scientific Computing \

Data Science tools:
|Data Science Tools|
|Jupyter Notbebook|
|R Studio|
|Apache Zeppelin|

## Below are a few example of evaluating arithmetic expression in python

# This is a simple arithmetic expression to multiply then add integers 
(3*4)+5
17

#This will convert 200 minutes into hours by dividing by 60
Minutes = 200
Hours = Minutes/60
Hours

3.3333333333333335