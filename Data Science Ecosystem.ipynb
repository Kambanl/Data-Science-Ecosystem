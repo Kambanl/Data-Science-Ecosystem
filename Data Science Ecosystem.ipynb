{
 "cells": [
  {
   "cell_type": "markdown",
   "id": "b46b985a-779b-40d2-90ae-ea287e928474",
   "metadata": {},
   "source": [
    "# Data Science Tools and Ecosystem"
   ]
  },
  {
   "cell_type": "markdown",
   "id": "6031de35-e6fb-4ae0-84c4-db2bf94031bd",
   "metadata": {},
   "source": [
    "**Objectives**\n",
    "\n",
    "- List popular languages for Data Science\n",
    "- Identify key libraries used by Data Scientists\n",
    "- Demonstrate how to create tables in Jupyter Notebook\n",
    "- Perform basic data manipulation tasks\n",
    "- Understand and use different data science tools and development environments"
   ]
  },
  {
   "cell_type": "markdown",
   "id": "90fff28b-250e-45c9-bf4d-8d1a6a98e5c4",
   "metadata": {},
   "source": [
    "## Author \n",
    "Kamban Loganathan"
   ]
  },
  {
   "cell_type": "markdown",
   "id": "67fe4d17-d57d-4aef-b279-b394e720a3a4",
   "metadata": {},
   "source": [
    "In this Notebook, Data Science Tools and Ecosystem are Summarized."
   ]
  },
  {
   "cell_type": "markdown",
   "id": "901f7c06-5e77-400a-9c4f-b5f2c4887a9f",
   "metadata": {},
   "source": [
    "Some of the Popular Languages that Data Scientists use are:"
   ]
  },
  {
   "cell_type": "markdown",
   "id": "fe300c57-7a46-4586-b475-ce360149664a",
   "metadata": {},
   "source": [
    "1. Python\n",
    "2. R\n",
    "3. SQL\n",
    "4. Julia\n",
    "5. Scala"
   ]
  },
  {
   "cell_type": "markdown",
   "id": "66132354-1002-4728-8bfb-7de0b715e1b1",
   "metadata": {},
   "source": [
    "Some of the Commonly used libraries used by Data Scientists include:"
   ]
  },
  {
   "cell_type": "markdown",
   "id": "d7e97c91-d8f8-49f6-9017-17c266b49d43",
   "metadata": {},
   "source": [
    "1. **Pandas** - For data manipulation and analysis\n",
    "2. **Numpy** - For Numerical Computations\n",
    "3. **Matplotlib** - For data Visualization\n",
    "4. **Scikit-learn** - For Machine Learning\n",
    "5. **TensorFlow** - For deep Learning\n",
    "6. **SciPy** - For Scientific Computing "
   ]
  },
  {
   "cell_type": "markdown",
   "id": "c80400b3-ee2b-4996-871f-61c077435f45",
   "metadata": {},
   "source": [
    "Data Science tools:"
   ]
  },
  {
   "cell_type": "markdown",
   "id": "2b714513-8f9e-4e0d-8975-e42f00f0b82f",
   "metadata": {},
   "source": [
    "|Data Science Tools|\n",
    "|Jupyter Notbebook|\n",
    "|R Studio|\n",
    "|Apache Zeppelin|"
   ]
  },
  {
   "cell_type": "markdown",
   "id": "95ea15d7-da2d-42ed-9172-598a827e6f4c",
   "metadata": {},
   "source": [
    "### Below are a few example of evaluating arithmetic expression in python"
   ]
  },
  {
   "cell_type": "code",
   "execution_count": 3,
   "id": "51cedbb1-9336-4091-b943-68067720fc7f",
   "metadata": {},
   "outputs": [
    {
     "data": {
      "text/plain": [
       "17"
      ]
     },
     "execution_count": 3,
     "metadata": {},
     "output_type": "execute_result"
    }
   ],
   "source": [
    "# This is a simple arithmetic expression to multiply then add integers \n",
    "(3*4)+5"
   ]
  },
  {
   "cell_type": "code",
   "execution_count": 4,
   "id": "f0576059-a64c-4e77-b71b-2b6848b73555",
   "metadata": {},
   "outputs": [
    {
     "data": {
      "text/plain": [
       "3.3333333333333335"
      ]
     },
     "execution_count": 4,
     "metadata": {},
     "output_type": "execute_result"
    }
   ],
   "source": [
    "#This will convert 200 minutes into hours by dividing by 60\n",
    "Minutes = 200\n",
    "Hours = Minutes/60\n",
    "Hours"
   ]
  }
 ],
 "metadata": {
  "kernelspec": {
   "display_name": "Python 3 (ipykernel)",
   "language": "python",
   "name": "python3"
  },
  "language_info": {
   "codemirror_mode": {
    "name": "ipython",
    "version": 3
   },
   "file_extension": ".py",
   "mimetype": "text/x-python",
   "name": "python",
   "nbconvert_exporter": "python",
   "pygments_lexer": "ipython3",
   "version": "3.12.4"
  }
 },
 "nbformat": 4,
 "nbformat_minor": 5
}
